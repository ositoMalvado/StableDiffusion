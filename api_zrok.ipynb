{
 "cells": [
  {
   "cell_type": "code",
   "execution_count": null,
   "metadata": {},
   "outputs": [],
   "source": [
    "from IPython.utils.io import capture_output\n",
    "\n",
    "with capture_output() as c:\n",
    "\t%cd /home/studio-lab-user\n",
    "\t!wget https://github.com/openziti/zrok/releases/download/v0.4.20/zrok_0.4.20_linux_amd64.tar.gz\n",
    "\t!tar -xzvf zrok_0.4.20_linux_amd64.tar.gz\n",
    "\tdel c\n",
    "!/home/studio-lab-user/zrok enable 11mGJLshYJwV\n",
    "!/home/studio-lab-user/zrok share public localhost:7860"
   ]
  }
 ],
 "metadata": {
  "language_info": {
   "name": "python"
  }
 },
 "nbformat": 4,
 "nbformat_minor": 2
}
